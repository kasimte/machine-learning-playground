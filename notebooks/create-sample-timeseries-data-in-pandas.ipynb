{
 "cells": [
  {
   "cell_type": "markdown",
   "metadata": {},
   "source": [
    "# Playing with Time Series data (datetime) in Pandas"
   ]
  },
  {
   "cell_type": "markdown",
   "metadata": {},
   "source": [
    "## Imports"
   ]
  },
  {
   "cell_type": "code",
   "execution_count": 14,
   "metadata": {},
   "outputs": [],
   "source": [
    "from faker import Faker\n",
    "import numpy as np\n",
    "import pandas as pd"
   ]
  },
  {
   "cell_type": "markdown",
   "metadata": {},
   "source": [
    "## Creating Sample Time Series Data"
   ]
  },
  {
   "cell_type": "markdown",
   "metadata": {},
   "source": [
    "This approach uses the `faker` library to generate random `datetime` instances. There is more information on stackoverflow here:\n",
    "\n",
    "https://stackoverflow.com/questions/553303/generate-a-random-date-between-two-other-dates"
   ]
  },
  {
   "cell_type": "code",
   "execution_count": 83,
   "metadata": {},
   "outputs": [],
   "source": [
    "# Instantiate a faker object for sample datetime generation\n",
    "fake = Faker()"
   ]
  },
  {
   "cell_type": "markdown",
   "metadata": {},
   "source": [
    "Let's test out creating one sample `datetime` first:"
   ]
  },
  {
   "cell_type": "code",
   "execution_count": 86,
   "metadata": {},
   "outputs": [
    {
     "data": {
      "text/plain": [
       "datetime.datetime(2014, 10, 1, 6, 58, 47)"
      ]
     },
     "execution_count": 86,
     "metadata": {},
     "output_type": "execute_result"
    }
   ],
   "source": [
    "fake.date_time_between(start_date='-10y', end_date='now')"
   ]
  },
  {
   "cell_type": "markdown",
   "metadata": {},
   "source": [
    "We can also do a simple `date` object:"
   ]
  },
  {
   "cell_type": "code",
   "execution_count": 87,
   "metadata": {},
   "outputs": [
    {
     "data": {
      "text/plain": [
       "datetime.date(2023, 2, 22)"
      ]
     },
     "execution_count": 87,
     "metadata": {},
     "output_type": "execute_result"
    }
   ],
   "source": [
    "fake.date_between(start_date='today', end_date='+10y')"
   ]
  },
  {
   "cell_type": "markdown",
   "metadata": {},
   "source": [
    "Now we can simple Python array syntax to create samples across a range:"
   ]
  },
  {
   "cell_type": "code",
   "execution_count": 91,
   "metadata": {},
   "outputs": [
    {
     "data": {
      "text/plain": [
       "[datetime.datetime(2008, 12, 2, 15, 0, 5),\n",
       " datetime.datetime(2006, 4, 14, 12, 44, 6),\n",
       " datetime.datetime(2019, 10, 1, 17, 45, 42),\n",
       " datetime.datetime(2009, 9, 25, 15, 22, 49),\n",
       " datetime.datetime(2001, 3, 6, 8, 10, 3),\n",
       " datetime.datetime(1996, 5, 31, 9, 34, 49),\n",
       " datetime.datetime(1992, 9, 25, 1, 45, 31),\n",
       " datetime.datetime(2015, 5, 28, 0, 27, 56),\n",
       " datetime.datetime(1990, 11, 26, 15, 29, 14),\n",
       " datetime.datetime(2008, 5, 4, 11, 11, 42)]"
      ]
     },
     "execution_count": 91,
     "metadata": {},
     "output_type": "execute_result"
    }
   ],
   "source": [
    "datetimes = [fake.date_time_between(start_date='-30y', end_date='now') for i in range(10)]; datetimes"
   ]
  },
  {
   "cell_type": "markdown",
   "metadata": {},
   "source": [
    "## Create a pandas dataframe"
   ]
  },
  {
   "cell_type": "markdown",
   "metadata": {},
   "source": [
    "Next, we can put our sample dates into a pandas dataframe for processing."
   ]
  },
  {
   "cell_type": "code",
   "execution_count": 94,
   "metadata": {},
   "outputs": [
    {
     "data": {
      "text/html": [
       "<div>\n",
       "<style scoped>\n",
       "    .dataframe tbody tr th:only-of-type {\n",
       "        vertical-align: middle;\n",
       "    }\n",
       "\n",
       "    .dataframe tbody tr th {\n",
       "        vertical-align: top;\n",
       "    }\n",
       "\n",
       "    .dataframe thead th {\n",
       "        text-align: right;\n",
       "    }\n",
       "</style>\n",
       "<table border=\"1\" class=\"dataframe\">\n",
       "  <thead>\n",
       "    <tr style=\"text-align: right;\">\n",
       "      <th></th>\n",
       "      <th>index</th>\n",
       "      <th>datetime</th>\n",
       "    </tr>\n",
       "  </thead>\n",
       "  <tbody>\n",
       "    <tr>\n",
       "      <td>0</td>\n",
       "      <td>0</td>\n",
       "      <td>2008-12-02 15:00:05</td>\n",
       "    </tr>\n",
       "    <tr>\n",
       "      <td>1</td>\n",
       "      <td>1</td>\n",
       "      <td>2006-04-14 12:44:06</td>\n",
       "    </tr>\n",
       "    <tr>\n",
       "      <td>2</td>\n",
       "      <td>2</td>\n",
       "      <td>2019-10-01 17:45:42</td>\n",
       "    </tr>\n",
       "    <tr>\n",
       "      <td>3</td>\n",
       "      <td>3</td>\n",
       "      <td>2009-09-25 15:22:49</td>\n",
       "    </tr>\n",
       "    <tr>\n",
       "      <td>4</td>\n",
       "      <td>4</td>\n",
       "      <td>2001-03-06 08:10:03</td>\n",
       "    </tr>\n",
       "    <tr>\n",
       "      <td>5</td>\n",
       "      <td>5</td>\n",
       "      <td>1996-05-31 09:34:49</td>\n",
       "    </tr>\n",
       "    <tr>\n",
       "      <td>6</td>\n",
       "      <td>6</td>\n",
       "      <td>1992-09-25 01:45:31</td>\n",
       "    </tr>\n",
       "    <tr>\n",
       "      <td>7</td>\n",
       "      <td>7</td>\n",
       "      <td>2015-05-28 00:27:56</td>\n",
       "    </tr>\n",
       "    <tr>\n",
       "      <td>8</td>\n",
       "      <td>8</td>\n",
       "      <td>1990-11-26 15:29:14</td>\n",
       "    </tr>\n",
       "    <tr>\n",
       "      <td>9</td>\n",
       "      <td>9</td>\n",
       "      <td>2008-05-04 11:11:42</td>\n",
       "    </tr>\n",
       "  </tbody>\n",
       "</table>\n",
       "</div>"
      ],
      "text/plain": [
       "   index            datetime\n",
       "0      0 2008-12-02 15:00:05\n",
       "1      1 2006-04-14 12:44:06\n",
       "2      2 2019-10-01 17:45:42\n",
       "3      3 2009-09-25 15:22:49\n",
       "4      4 2001-03-06 08:10:03\n",
       "5      5 1996-05-31 09:34:49\n",
       "6      6 1992-09-25 01:45:31\n",
       "7      7 2015-05-28 00:27:56\n",
       "8      8 1990-11-26 15:29:14\n",
       "9      9 2008-05-04 11:11:42"
      ]
     },
     "execution_count": 94,
     "metadata": {},
     "output_type": "execute_result"
    }
   ],
   "source": [
    "df = pd.Series(datetimes)\n",
    "df = df.reset_index(name = \"datetime\")\n",
    "df"
   ]
  },
  {
   "cell_type": "markdown",
   "metadata": {},
   "source": [
    "## Adding Additional Columns Based on Existing Columns"
   ]
  },
  {
   "cell_type": "markdown",
   "metadata": {},
   "source": [
    "After we have it in dataframe format, we can do all sorts of stuff with the data, like adding additional columns based on our original datetime objects."
   ]
  },
  {
   "cell_type": "markdown",
   "metadata": {},
   "source": [
    "### Add a 'date' column based on 'datetime'"
   ]
  },
  {
   "cell_type": "markdown",
   "metadata": {},
   "source": [
    "Converting `datetime` to `date` is as simple as calling `.date()` on the `datetime` instance."
   ]
  },
  {
   "cell_type": "code",
   "execution_count": 75,
   "metadata": {},
   "outputs": [
    {
     "data": {
      "text/plain": [
       "(Timestamp('2011-12-18 04:04:35'), datetime.date(2011, 12, 18))"
      ]
     },
     "execution_count": 75,
     "metadata": {},
     "output_type": "execute_result"
    }
   ],
   "source": [
    "df['datetime'][0], df['datetime'][0].date()"
   ]
  },
  {
   "cell_type": "markdown",
   "metadata": {},
   "source": [
    "If we want a whole new column with just the `date` info, we can use the `apply` operator of the dataframe."
   ]
  },
  {
   "cell_type": "code",
   "execution_count": 77,
   "metadata": {},
   "outputs": [
    {
     "data": {
      "text/html": [
       "<div>\n",
       "<style scoped>\n",
       "    .dataframe tbody tr th:only-of-type {\n",
       "        vertical-align: middle;\n",
       "    }\n",
       "\n",
       "    .dataframe tbody tr th {\n",
       "        vertical-align: top;\n",
       "    }\n",
       "\n",
       "    .dataframe thead th {\n",
       "        text-align: right;\n",
       "    }\n",
       "</style>\n",
       "<table border=\"1\" class=\"dataframe\">\n",
       "  <thead>\n",
       "    <tr style=\"text-align: right;\">\n",
       "      <th></th>\n",
       "      <th>index</th>\n",
       "      <th>datetime</th>\n",
       "      <th>date</th>\n",
       "    </tr>\n",
       "  </thead>\n",
       "  <tbody>\n",
       "    <tr>\n",
       "      <td>0</td>\n",
       "      <td>0</td>\n",
       "      <td>2011-12-18 04:04:35</td>\n",
       "      <td>2011-12-18</td>\n",
       "    </tr>\n",
       "    <tr>\n",
       "      <td>1</td>\n",
       "      <td>1</td>\n",
       "      <td>1992-08-23 17:28:41</td>\n",
       "      <td>1992-08-23</td>\n",
       "    </tr>\n",
       "    <tr>\n",
       "      <td>2</td>\n",
       "      <td>2</td>\n",
       "      <td>2011-08-07 08:38:46</td>\n",
       "      <td>2011-08-07</td>\n",
       "    </tr>\n",
       "    <tr>\n",
       "      <td>3</td>\n",
       "      <td>3</td>\n",
       "      <td>1996-07-12 22:42:29</td>\n",
       "      <td>1996-07-12</td>\n",
       "    </tr>\n",
       "    <tr>\n",
       "      <td>4</td>\n",
       "      <td>4</td>\n",
       "      <td>1993-03-04 16:43:05</td>\n",
       "      <td>1993-03-04</td>\n",
       "    </tr>\n",
       "    <tr>\n",
       "      <td>5</td>\n",
       "      <td>5</td>\n",
       "      <td>2006-06-30 22:12:21</td>\n",
       "      <td>2006-06-30</td>\n",
       "    </tr>\n",
       "    <tr>\n",
       "      <td>6</td>\n",
       "      <td>6</td>\n",
       "      <td>2016-12-12 19:06:07</td>\n",
       "      <td>2016-12-12</td>\n",
       "    </tr>\n",
       "    <tr>\n",
       "      <td>7</td>\n",
       "      <td>7</td>\n",
       "      <td>2010-12-17 11:50:00</td>\n",
       "      <td>2010-12-17</td>\n",
       "    </tr>\n",
       "    <tr>\n",
       "      <td>8</td>\n",
       "      <td>8</td>\n",
       "      <td>1992-12-14 16:22:06</td>\n",
       "      <td>1992-12-14</td>\n",
       "    </tr>\n",
       "    <tr>\n",
       "      <td>9</td>\n",
       "      <td>9</td>\n",
       "      <td>2012-11-02 11:51:09</td>\n",
       "      <td>2012-11-02</td>\n",
       "    </tr>\n",
       "  </tbody>\n",
       "</table>\n",
       "</div>"
      ],
      "text/plain": [
       "   index            datetime        date\n",
       "0      0 2011-12-18 04:04:35  2011-12-18\n",
       "1      1 1992-08-23 17:28:41  1992-08-23\n",
       "2      2 2011-08-07 08:38:46  2011-08-07\n",
       "3      3 1996-07-12 22:42:29  1996-07-12\n",
       "4      4 1993-03-04 16:43:05  1993-03-04\n",
       "5      5 2006-06-30 22:12:21  2006-06-30\n",
       "6      6 2016-12-12 19:06:07  2016-12-12\n",
       "7      7 2010-12-17 11:50:00  2010-12-17\n",
       "8      8 1992-12-14 16:22:06  1992-12-14\n",
       "9      9 2012-11-02 11:51:09  2012-11-02"
      ]
     },
     "execution_count": 77,
     "metadata": {},
     "output_type": "execute_result"
    }
   ],
   "source": [
    "df['date'] = df.apply(lambda row: row['datetime'].date(), axis = 1); df"
   ]
  },
  {
   "cell_type": "markdown",
   "metadata": {},
   "source": [
    "### Add 'datetime_to_int' column based on type conversion"
   ]
  },
  {
   "cell_type": "code",
   "execution_count": 82,
   "metadata": {},
   "outputs": [
    {
     "data": {
      "text/html": [
       "<div>\n",
       "<style scoped>\n",
       "    .dataframe tbody tr th:only-of-type {\n",
       "        vertical-align: middle;\n",
       "    }\n",
       "\n",
       "    .dataframe tbody tr th {\n",
       "        vertical-align: top;\n",
       "    }\n",
       "\n",
       "    .dataframe thead th {\n",
       "        text-align: right;\n",
       "    }\n",
       "</style>\n",
       "<table border=\"1\" class=\"dataframe\">\n",
       "  <thead>\n",
       "    <tr style=\"text-align: right;\">\n",
       "      <th></th>\n",
       "      <th>index</th>\n",
       "      <th>datetime</th>\n",
       "      <th>date</th>\n",
       "      <th>datetime_to_int</th>\n",
       "    </tr>\n",
       "  </thead>\n",
       "  <tbody>\n",
       "    <tr>\n",
       "      <td>0</td>\n",
       "      <td>0</td>\n",
       "      <td>2011-12-18 04:04:35</td>\n",
       "      <td>2011-12-18</td>\n",
       "      <td>1324181075000000000</td>\n",
       "    </tr>\n",
       "    <tr>\n",
       "      <td>1</td>\n",
       "      <td>1</td>\n",
       "      <td>1992-08-23 17:28:41</td>\n",
       "      <td>1992-08-23</td>\n",
       "      <td>714590921000000000</td>\n",
       "    </tr>\n",
       "    <tr>\n",
       "      <td>2</td>\n",
       "      <td>2</td>\n",
       "      <td>2011-08-07 08:38:46</td>\n",
       "      <td>2011-08-07</td>\n",
       "      <td>1312706326000000000</td>\n",
       "    </tr>\n",
       "    <tr>\n",
       "      <td>3</td>\n",
       "      <td>3</td>\n",
       "      <td>1996-07-12 22:42:29</td>\n",
       "      <td>1996-07-12</td>\n",
       "      <td>837211349000000000</td>\n",
       "    </tr>\n",
       "    <tr>\n",
       "      <td>4</td>\n",
       "      <td>4</td>\n",
       "      <td>1993-03-04 16:43:05</td>\n",
       "      <td>1993-03-04</td>\n",
       "      <td>731263385000000000</td>\n",
       "    </tr>\n",
       "    <tr>\n",
       "      <td>5</td>\n",
       "      <td>5</td>\n",
       "      <td>2006-06-30 22:12:21</td>\n",
       "      <td>2006-06-30</td>\n",
       "      <td>1151705541000000000</td>\n",
       "    </tr>\n",
       "    <tr>\n",
       "      <td>6</td>\n",
       "      <td>6</td>\n",
       "      <td>2016-12-12 19:06:07</td>\n",
       "      <td>2016-12-12</td>\n",
       "      <td>1481569567000000000</td>\n",
       "    </tr>\n",
       "    <tr>\n",
       "      <td>7</td>\n",
       "      <td>7</td>\n",
       "      <td>2010-12-17 11:50:00</td>\n",
       "      <td>2010-12-17</td>\n",
       "      <td>1292586600000000000</td>\n",
       "    </tr>\n",
       "    <tr>\n",
       "      <td>8</td>\n",
       "      <td>8</td>\n",
       "      <td>1992-12-14 16:22:06</td>\n",
       "      <td>1992-12-14</td>\n",
       "      <td>724350126000000000</td>\n",
       "    </tr>\n",
       "    <tr>\n",
       "      <td>9</td>\n",
       "      <td>9</td>\n",
       "      <td>2012-11-02 11:51:09</td>\n",
       "      <td>2012-11-02</td>\n",
       "      <td>1351857069000000000</td>\n",
       "    </tr>\n",
       "  </tbody>\n",
       "</table>\n",
       "</div>"
      ],
      "text/plain": [
       "   index            datetime        date      datetime_to_int\n",
       "0      0 2011-12-18 04:04:35  2011-12-18  1324181075000000000\n",
       "1      1 1992-08-23 17:28:41  1992-08-23   714590921000000000\n",
       "2      2 2011-08-07 08:38:46  2011-08-07  1312706326000000000\n",
       "3      3 1996-07-12 22:42:29  1996-07-12   837211349000000000\n",
       "4      4 1993-03-04 16:43:05  1993-03-04   731263385000000000\n",
       "5      5 2006-06-30 22:12:21  2006-06-30  1151705541000000000\n",
       "6      6 2016-12-12 19:06:07  2016-12-12  1481569567000000000\n",
       "7      7 2010-12-17 11:50:00  2010-12-17  1292586600000000000\n",
       "8      8 1992-12-14 16:22:06  1992-12-14   724350126000000000\n",
       "9      9 2012-11-02 11:51:09  2012-11-02  1351857069000000000"
      ]
     },
     "execution_count": 82,
     "metadata": {},
     "output_type": "execute_result"
    }
   ],
   "source": [
    "df['datetime_to_int'] = df['datetime'].astype(int); df"
   ]
  }
 ],
 "metadata": {
  "kernelspec": {
   "display_name": "Python 3",
   "language": "python",
   "name": "python3"
  },
  "language_info": {
   "codemirror_mode": {
    "name": "ipython",
    "version": 3
   },
   "file_extension": ".py",
   "mimetype": "text/x-python",
   "name": "python",
   "nbconvert_exporter": "python",
   "pygments_lexer": "ipython3",
   "version": "3.7.5"
  }
 },
 "nbformat": 4,
 "nbformat_minor": 2
}
