{
 "cells": [
  {
   "cell_type": "markdown",
   "metadata": {},
   "source": [
    "## Counting nan (not a number)"
   ]
  },
  {
   "cell_type": "markdown",
   "metadata": {},
   "source": [
    "This is a demonst"
   ]
  },
  {
   "cell_type": "code",
   "execution_count": 1,
   "metadata": {},
   "outputs": [],
   "source": [
    "import numpy as np"
   ]
  },
  {
   "cell_type": "markdown",
   "metadata": {},
   "source": [
    "## Initialize 2d array with 10000x10000 numbers"
   ]
  },
  {
   "cell_type": "code",
   "execution_count": 2,
   "metadata": {},
   "outputs": [
    {
     "data": {
      "text/plain": [
       "array([[0.34478234, 0.31156914, 0.92992812, ..., 0.88221881, 0.26223388,\n",
       "        0.61217924],\n",
       "       [0.58540657, 0.51169777, 0.97820234, ..., 0.04618194, 0.40067397,\n",
       "        0.74742398],\n",
       "       [0.76135122, 0.13856277, 0.67596727, ..., 0.11794882, 0.7967737 ,\n",
       "        0.80777797],\n",
       "       ...,\n",
       "       [0.50153532, 0.37914789, 0.54491365, ..., 0.21829646, 0.12486791,\n",
       "        0.53708039],\n",
       "       [0.76358594, 0.22403698, 0.85158267, ..., 0.73401885, 0.47165592,\n",
       "        0.5847369 ],\n",
       "       [0.78413384, 0.27678177, 0.63310313, ..., 0.40332593, 0.96877871,\n",
       "        0.00153932]])"
      ]
     },
     "execution_count": 2,
     "metadata": {},
     "output_type": "execute_result"
    }
   ],
   "source": [
    "data = np.random.random((10000,10000)); data"
   ]
  },
  {
   "cell_type": "code",
   "execution_count": 3,
   "metadata": {},
   "outputs": [
    {
     "data": {
      "text/plain": [
       "(10000, 10000)"
      ]
     },
     "execution_count": 3,
     "metadata": {},
     "output_type": "execute_result"
    }
   ],
   "source": [
    "data.shape"
   ]
  },
  {
   "cell_type": "markdown",
   "metadata": {},
   "source": [
    "## Random selection of 100 indicies"
   ]
  },
  {
   "cell_type": "code",
   "execution_count": 4,
   "metadata": {},
   "outputs": [
    {
     "data": {
      "text/plain": [
       "([array([  60, 4068, 7574, 5582, 8931, 7054, 7849, 8179, 6982, 4741, 2853,\n",
       "         1665,  336, 8405, 6425, 3261, 3279, 2630,  929, 2511, 6793, 7152,\n",
       "         1396, 3193, 9480, 2092, 4142, 1804, 2594, 7762, 7425, 5233, 2720,\n",
       "         5470, 1665, 4715, 2334, 6616, 6271, 6275, 5067, 6494, 1260, 3649,\n",
       "         5784, 4707, 7099, 6192, 8666,  989,  554, 6852, 6419, 8963, 4166,\n",
       "         9167, 6783, 3968, 5180,   91, 3909, 9961, 3101, 3695, 6150, 1076,\n",
       "         2761, 6611, 8225, 1257, 5314, 3961, 1503, 5418, 6026, 4766,  783,\n",
       "         3154, 5271,  125, 9519, 7982, 7502, 2586, 4520, 6501, 4671, 4094,\n",
       "         4839, 7761, 7215, 5214, 3457, 6289, 4436, 5841, 5245, 7759, 4855,\n",
       "         2508])],\n",
       " [array([3053, 7054,  885, 7903, 4888, 4999, 4289, 3144, 7489, 4778, 7637,\n",
       "         8657, 5335, 6117, 6732,  885, 3950, 3690, 1783, 5363, 3471, 7614,\n",
       "         1378, 7551, 4395, 2009, 6950, 6394, 1636, 2752, 5610, 2494, 6497,\n",
       "         8654, 3379,  859,  220,   19, 2065, 1150, 1503, 8585, 6104, 5784,\n",
       "         3810,  492, 6664, 8146, 5912, 9980, 1228, 6144, 7025, 9765, 8385,\n",
       "         1225, 4115, 9910, 3781, 9629, 9475, 9627, 3618, 7494, 8947, 7828,\n",
       "         7258, 2172, 6440, 6683, 8914, 6740, 6576, 1884, 9242, 8696, 8708,\n",
       "         8396,  451, 8473, 1491, 7155, 2522, 6492, 7628, 4404, 4885, 2944,\n",
       "         9395, 3746, 3785, 5883, 2904, 4587, 5300, 1803, 8592, 2841, 3319,\n",
       "         2142])])"
      ]
     },
     "execution_count": 4,
     "metadata": {},
     "output_type": "execute_result"
    }
   ],
   "source": [
    "random_rows = [np.random.randint(0,10000,100)]\n",
    "random_columns = [np.random.randint(0,10000,100)]\n",
    "random_rows, random_columns"
   ]
  },
  {
   "cell_type": "markdown",
   "metadata": {},
   "source": [
    "## Replace randomly selected indices with np.nan"
   ]
  },
  {
   "cell_type": "code",
   "execution_count": 5,
   "metadata": {},
   "outputs": [],
   "source": [
    "data[random_rows, random_columns] = np.nan"
   ]
  },
  {
   "cell_type": "markdown",
   "metadata": {},
   "source": [
    "Count NaNs."
   ]
  },
  {
   "cell_type": "code",
   "execution_count": 6,
   "metadata": {},
   "outputs": [
    {
     "data": {
      "text/plain": [
       "100"
      ]
     },
     "execution_count": 6,
     "metadata": {},
     "output_type": "execute_result"
    }
   ],
   "source": [
    "np.count_nonzero(np.isnan(data))"
   ]
  },
  {
   "cell_type": "markdown",
   "metadata": {},
   "source": [
    "Alternatively, count the inverse (non-nan)."
   ]
  },
  {
   "cell_type": "code",
   "execution_count": 7,
   "metadata": {},
   "outputs": [
    {
     "data": {
      "text/plain": [
       "99999900"
      ]
     },
     "execution_count": 7,
     "metadata": {},
     "output_type": "execute_result"
    }
   ],
   "source": [
    "np.count_nonzero(~np.isnan(data))"
   ]
  }
 ],
 "metadata": {
  "kernelspec": {
   "display_name": "Python 3",
   "language": "python",
   "name": "python3"
  },
  "language_info": {
   "codemirror_mode": {
    "name": "ipython",
    "version": 3
   },
   "file_extension": ".py",
   "mimetype": "text/x-python",
   "name": "python",
   "nbconvert_exporter": "python",
   "pygments_lexer": "ipython3",
   "version": "3.7.5"
  }
 },
 "nbformat": 4,
 "nbformat_minor": 4
}
