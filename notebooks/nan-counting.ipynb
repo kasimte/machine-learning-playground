{
 "cells": [
  {
   "cell_type": "markdown",
   "metadata": {},
   "source": [
    "## Counting nan (not a number)"
   ]
  },
  {
   "cell_type": "markdown",
   "metadata": {},
   "source": [
    "This is a demonstration of random population of nan in a dataset and then performing a count of said nan. See\n",
    "\n",
    "https://stackoverflow.com/questions/21778118/counting-the-number-of-non-nan-elements-in-a-numpy-ndarray-in-python\n",
    "\n",
    "for more info."
   ]
  },
  {
   "cell_type": "code",
   "execution_count": 1,
   "metadata": {},
   "outputs": [],
   "source": [
    "import numpy as np"
   ]
  },
  {
   "cell_type": "code",
   "execution_count": 2,
   "metadata": {},
   "outputs": [
    {
     "name": "stdout",
     "output_type": "stream",
     "text": [
      "Python 3.7.5\r\n"
     ]
    }
   ],
   "source": [
    "!python --version"
   ]
  },
  {
   "cell_type": "markdown",
   "metadata": {},
   "source": [
    "## Initialize 2d array with 10000x10000 numbers"
   ]
  },
  {
   "cell_type": "code",
   "execution_count": 3,
   "metadata": {},
   "outputs": [
    {
     "data": {
      "text/plain": [
       "array([[0.52052853, 0.23025444, 0.98855544, ..., 0.43705781, 0.90709756,\n",
       "        0.32384251],\n",
       "       [0.64542102, 0.55123971, 0.11046161, ..., 0.91879643, 0.91022165,\n",
       "        0.64208978],\n",
       "       [0.90779322, 0.84735328, 0.00779107, ..., 0.79378849, 0.60685119,\n",
       "        0.51201369],\n",
       "       ...,\n",
       "       [0.39233851, 0.39447722, 0.08721631, ..., 0.82077491, 0.3647375 ,\n",
       "        0.61085127],\n",
       "       [0.45710938, 0.31239756, 0.14966599, ..., 0.95685511, 0.69042876,\n",
       "        0.63675743],\n",
       "       [0.50833318, 0.43641674, 0.76418911, ..., 0.50891845, 0.29457885,\n",
       "        0.43071857]])"
      ]
     },
     "execution_count": 3,
     "metadata": {},
     "output_type": "execute_result"
    }
   ],
   "source": [
    "data = np.random.random((10000,10000)); data"
   ]
  },
  {
   "cell_type": "code",
   "execution_count": 4,
   "metadata": {},
   "outputs": [
    {
     "data": {
      "text/plain": [
       "(10000, 10000)"
      ]
     },
     "execution_count": 4,
     "metadata": {},
     "output_type": "execute_result"
    }
   ],
   "source": [
    "data.shape"
   ]
  },
  {
   "cell_type": "markdown",
   "metadata": {},
   "source": [
    "## Random selection of 100 indicies"
   ]
  },
  {
   "cell_type": "code",
   "execution_count": 5,
   "metadata": {},
   "outputs": [
    {
     "data": {
      "text/plain": [
       "([array([5335, 4364, 1618,  288, 3454, 1651, 9785, 7185,  545, 4447, 9150,\n",
       "         6104,  164, 1961, 3943, 3072, 5182, 1266,  115, 3531, 5988, 9260,\n",
       "         3991, 1580,  773, 5793,  494, 8039, 3536, 9836, 7401,  860, 5532,\n",
       "         7046, 1176, 4981, 5804, 7657, 9446, 9457, 4556, 9485, 2646, 1453,\n",
       "         2243, 9308, 4237, 5363, 5346, 6526, 7473, 5105, 3430, 5926, 3732,\n",
       "         9494, 5921, 8226, 3753, 6628, 7786, 7786, 5875, 1414, 7902, 4959,\n",
       "         7753, 9897, 5557, 1484,  562, 6866, 8390, 1032, 9192, 6547, 1209,\n",
       "         7799, 2423, 5371, 1863, 3474, 8561, 4196,  165, 5508,  863, 6775,\n",
       "         5947, 6609, 4360, 9862, 1223, 4666, 7721, 7415, 3768,  550, 1696,\n",
       "         1807])],\n",
       " [array([3993, 8146, 6338, 1582, 3739, 1666, 1686, 2286, 9809, 4152,  704,\n",
       "         4928, 8254, 4073,  480, 3126, 4872, 8607, 3025, 8209, 8622,  640,\n",
       "         2429, 9999, 8995, 2609, 4031, 3052, 7537, 7281, 9353, 6485, 2611,\n",
       "         1832, 6280,  967, 2377, 1992, 2463, 8175,  770, 3227, 6249, 2037,\n",
       "         4205, 5701, 9759, 1635, 4836, 5038, 3258, 8277, 4948, 7406, 4661,\n",
       "          277, 7294, 8047, 8593, 6158, 8847, 6820, 9091, 5726, 7607,  382,\n",
       "         5317, 9059, 3964, 4329, 1626, 2357, 5056, 5121, 2433, 1458, 4718,\n",
       "          466, 1251, 9119, 8807,  307, 6477, 7166, 2619, 9327, 9743, 9405,\n",
       "         5067, 4513, 3369, 2084, 1981, 4920,  444, 9968, 1493,  811, 8864,\n",
       "         2696])])"
      ]
     },
     "execution_count": 5,
     "metadata": {},
     "output_type": "execute_result"
    }
   ],
   "source": [
    "random_rows = [np.random.randint(0,10000,100)]\n",
    "random_columns = [np.random.randint(0,10000,100)]\n",
    "random_rows, random_columns"
   ]
  },
  {
   "cell_type": "markdown",
   "metadata": {},
   "source": [
    "## Replace randomly selected indices with np.nan"
   ]
  },
  {
   "cell_type": "code",
   "execution_count": 6,
   "metadata": {},
   "outputs": [],
   "source": [
    "data[random_rows, random_columns] = np.nan"
   ]
  },
  {
   "cell_type": "markdown",
   "metadata": {},
   "source": [
    "Count NaNs."
   ]
  },
  {
   "cell_type": "code",
   "execution_count": 7,
   "metadata": {},
   "outputs": [
    {
     "data": {
      "text/plain": [
       "100"
      ]
     },
     "execution_count": 7,
     "metadata": {},
     "output_type": "execute_result"
    }
   ],
   "source": [
    "np.count_nonzero(np.isnan(data))"
   ]
  },
  {
   "cell_type": "markdown",
   "metadata": {},
   "source": [
    "Alternatively, count the inverse (non-nan)."
   ]
  },
  {
   "cell_type": "code",
   "execution_count": 8,
   "metadata": {},
   "outputs": [
    {
     "data": {
      "text/plain": [
       "99999900"
      ]
     },
     "execution_count": 8,
     "metadata": {},
     "output_type": "execute_result"
    }
   ],
   "source": [
    "np.count_nonzero(~np.isnan(data))"
   ]
  }
 ],
 "metadata": {
  "kernelspec": {
   "display_name": "Python 3",
   "language": "python",
   "name": "python3"
  },
  "language_info": {
   "codemirror_mode": {
    "name": "ipython",
    "version": 3
   },
   "file_extension": ".py",
   "mimetype": "text/x-python",
   "name": "python",
   "nbconvert_exporter": "python",
   "pygments_lexer": "ipython3",
   "version": "3.7.5"
  }
 },
 "nbformat": 4,
 "nbformat_minor": 4
}
