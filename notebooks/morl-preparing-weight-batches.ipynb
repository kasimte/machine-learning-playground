{
 "cells": [
  {
   "cell_type": "markdown",
   "metadata": {},
   "source": [
    "# Preparing weight batches for MORL"
   ]
  },
  {
   "cell_type": "markdown",
   "metadata": {},
   "source": [
    "Playground code for "
   ]
  },
  {
   "cell_type": "code",
   "execution_count": 1,
   "metadata": {},
   "outputs": [],
   "source": [
    "import numpy as np\n",
    "import torch"
   ]
  },
  {
   "cell_type": "code",
   "execution_count": 16,
   "metadata": {},
   "outputs": [],
   "source": [
    "BATCH_SIZE = 5\n",
    "WEIGHT_NUM = 2\n",
    "REWARD_SIZE = 3\n",
    "FloatTensor = torch.FloatTensor"
   ]
  },
  {
   "cell_type": "code",
   "execution_count": 17,
   "metadata": {},
   "outputs": [
    {
     "data": {
      "text/plain": [
       "array([[ 0.85627939, -0.10515328, -1.70294526],\n",
       "       [-1.67505533,  0.45567369,  0.91296971]])"
      ]
     },
     "execution_count": 17,
     "metadata": {},
     "output_type": "execute_result"
    }
   ],
   "source": [
    "w_batch = np.random.randn(WEIGHT_NUM, REWARD_SIZE); w_batch"
   ]
  },
  {
   "cell_type": "code",
   "execution_count": 18,
   "metadata": {},
   "outputs": [
    {
     "data": {
      "text/plain": [
       "array([[0.3213806 , 0.03946635, 0.63915304],\n",
       "       [0.55033546, 0.14971051, 0.29995403]])"
      ]
     },
     "execution_count": 18,
     "metadata": {},
     "output_type": "execute_result"
    }
   ],
   "source": [
    "w_batch = np.abs(w_batch) / np.linalg.norm(w_batch, ord=1, axis=1, keepdims=True); w_batch"
   ]
  },
  {
   "cell_type": "code",
   "execution_count": 19,
   "metadata": {},
   "outputs": [],
   "source": [
    "w_batch = torch.from_numpy(w_batch.repeat(BATCH_SIZE, axis=0)).type(torch.FloatTensor)"
   ]
  },
  {
   "cell_type": "code",
   "execution_count": 20,
   "metadata": {},
   "outputs": [
    {
     "data": {
      "text/plain": [
       "tensor([[0.3214, 0.0395, 0.6392],\n",
       "        [0.3214, 0.0395, 0.6392],\n",
       "        [0.3214, 0.0395, 0.6392],\n",
       "        [0.3214, 0.0395, 0.6392],\n",
       "        [0.3214, 0.0395, 0.6392],\n",
       "        [0.5503, 0.1497, 0.3000],\n",
       "        [0.5503, 0.1497, 0.3000],\n",
       "        [0.5503, 0.1497, 0.3000],\n",
       "        [0.5503, 0.1497, 0.3000],\n",
       "        [0.5503, 0.1497, 0.3000]])"
      ]
     },
     "execution_count": 20,
     "metadata": {},
     "output_type": "execute_result"
    }
   ],
   "source": [
    "w_batch"
   ]
  }
 ],
 "metadata": {
  "kernelspec": {
   "display_name": "Python 3",
   "language": "python",
   "name": "python3"
  },
  "language_info": {
   "codemirror_mode": {
    "name": "ipython",
    "version": 3
   },
   "file_extension": ".py",
   "mimetype": "text/x-python",
   "name": "python",
   "nbconvert_exporter": "python",
   "pygments_lexer": "ipython3",
   "version": "3.7.5"
  }
 },
 "nbformat": 4,
 "nbformat_minor": 4
}
